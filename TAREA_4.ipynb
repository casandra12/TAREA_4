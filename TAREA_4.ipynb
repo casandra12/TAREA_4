{
  "nbformat": 4,
  "nbformat_minor": 0,
  "metadata": {
    "colab": {
      "name": "TAREA_4.ipynb",
      "provenance": [],
      "authorship_tag": "ABX9TyMdi9qcHlXE3xipar5uexf9",
      "include_colab_link": true
    },
    "kernelspec": {
      "name": "python3",
      "display_name": "Python 3"
    },
    "language_info": {
      "name": "python"
    }
  },
  "cells": [
    {
      "cell_type": "markdown",
      "metadata": {
        "id": "view-in-github",
        "colab_type": "text"
      },
      "source": [
        "<a href=\"https://colab.research.google.com/github/casandra12/TAREA_4/blob/main/TAREA_4.ipynb\" target=\"_parent\"><img src=\"https://colab.research.google.com/assets/colab-badge.svg\" alt=\"Open In Colab\"/></a>"
      ]
    },
    {
      "cell_type": "code",
      "metadata": {
        "colab": {
          "base_uri": "https://localhost:8080/"
        },
        "id": "tDwjBgKttKHk",
        "outputId": "3410dd9e-81da-4a30-c3d9-5ec2a2055c2d"
      },
      "source": [
        "import math\n",
        "\n",
        "print(\"Programa ecuación de segundo grado:\")\n",
        "print()\n",
        "print(\"por medio de la Formula General\")\n",
        "print()\n",
        "\n",
        "#coeficientes\n",
        "a, b, c = [float(input(f' coeficiente de {coef}: ')) for coef in ('a', 'b', 'c')]\n",
        "\n",
        "#Calculo del determinante\n",
        "discriminante = b * b - 4 * a * c\n",
        "\n",
        "if discriminante < 0: #Comprobacion de existencia de soluciones reales\n",
        "    print(f'no existe solicuión')\n",
        "\n",
        "else:\n",
        "    raiz = math.sqrt(discriminante)\n",
        "    x_1 = (-b + raiz) / (2 * a)\n",
        "    if discriminante !=0:\n",
        "        x_2 = (-b - raiz) / (2 * a)\n",
        "        print(f'Las soluciones son {x_1} y {x_2}.')\n",
        "    else:\n",
        "        print(f'La unica solucion es x = {x_1}')"
      ],
      "execution_count": 3,
      "outputs": [
        {
          "output_type": "stream",
          "name": "stdout",
          "text": [
            "Programa ecuación de segundo grado:\n",
            "\n",
            "por medio de la Formula General\n",
            "\n",
            " coeficiente de a: 24\n",
            " coeficiente de b: 16\n",
            " coeficiente de c: 8\n",
            "no existe solicuión\n"
          ]
        }
      ]
    }
  ]
}