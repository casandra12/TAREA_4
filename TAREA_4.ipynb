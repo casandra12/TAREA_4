{
  "nbformat": 4,
  "nbformat_minor": 0,
  "metadata": {
    "colab": {
      "name": "TAREA_4.ipynb",
      "provenance": [],
      "authorship_tag": "ABX9TyO0wj/1FvsSgK0FQtM1Egi0",
      "include_colab_link": true
    },
    "kernelspec": {
      "name": "python3",
      "display_name": "Python 3"
    },
    "language_info": {
      "name": "python"
    }
  },
  "cells": [
    {
      "cell_type": "markdown",
      "metadata": {
        "id": "view-in-github",
        "colab_type": "text"
      },
      "source": [
        "<a href=\"https://colab.research.google.com/github/casandra12/TAREA_4/blob/main/TAREA_4.ipynb\" target=\"_parent\"><img src=\"https://colab.research.google.com/assets/colab-badge.svg\" alt=\"Open In Colab\"/></a>"
      ]
    },
    {
      "cell_type": "code",
      "metadata": {
        "colab": {
          "base_uri": "https://localhost:8080/"
        },
        "id": "tDwjBgKttKHk",
        "outputId": "ca5c92df-2cda-494a-d130-20ce043a3088"
      },
      "source": [
        "import math\n",
        "\n",
        "print(\"programa ecuación de segundo grado:\")\n",
        "print()\n",
        "print(\"por medio de la Formula General\")\n",
        "print()\n",
        "\n",
        "#coeficientes\n",
        "a, b, c = [float(input(f' coeficiente de {coef}: ')) for coef in ('a', 'b', 'c')]\n",
        "\n",
        "#Calculo del determinante\n",
        "discriminante = b * b - 4 * a * c\n",
        "\n",
        "if discriminante < 0: #Comprobacion de existencia de soluciones reales\n",
        "    print(f'no existe solución')\n",
        "\n",
        "else:\n",
        "    raiz = math.sqrt(discriminante)\n",
        "    x_1 = (-b + raiz) / (2 * a)\n",
        "    if discriminante !=0:\n",
        "        x_2 = (-b - raiz) / (2 * a)\n",
        "        print(f'Las soluciones son {x_1} y {x_2}.')\n",
        "    else:\n",
        "        print(f'La solución es x = {x_1}')"
      ],
      "execution_count": 4,
      "outputs": [
        {
          "output_type": "stream",
          "name": "stdout",
          "text": [
            "programa ecuación de segundo grado:\n",
            "\n",
            "por medio de la Formula General\n",
            "\n",
            " coeficiente de a: 7\n",
            " coeficiente de b: 54\n",
            " coeficiente de c: 9\n",
            "Las soluciones son -0.17043202841030286 y -7.543853685875411.\n"
          ]
        }
      ]
    }
  ]
}