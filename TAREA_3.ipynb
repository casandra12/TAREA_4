{
  "nbformat": 4,
  "nbformat_minor": 0,
  "metadata": {
    "colab": {
      "name": "TAREA_3.ipynb",
      "provenance": [],
      "authorship_tag": "ABX9TyOq0GU0MIVXOSFpeKWaQAzK",
      "include_colab_link": true
    },
    "kernelspec": {
      "name": "python3",
      "display_name": "Python 3"
    },
    "language_info": {
      "name": "python"
    }
  },
  "cells": [
    {
      "cell_type": "markdown",
      "metadata": {
        "id": "view-in-github",
        "colab_type": "text"
      },
      "source": [
        "<a href=\"https://colab.research.google.com/github/casandra12/TAREA_4/blob/main/TAREA_3.ipynb\" target=\"_parent\"><img src=\"https://colab.research.google.com/assets/colab-badge.svg\" alt=\"Open In Colab\"/></a>"
      ]
    },
    {
      "cell_type": "code",
      "metadata": {
        "colab": {
          "base_uri": "https://localhost:8080/"
        },
        "id": "SmWDlzgh-9Dj",
        "outputId": "f1cb73ea-731a-463b-cd68-bc227ca68bb5"
      },
      "source": [
        "#Tarea 3 \n",
        "print(\"Detalle: \")\n",
        "\n",
        "#Lista proporcionada\n",
        "menu_select = ['mesa=3','comensal=2','entrada','=\"Ensalada verde\"','medio=','\"crema de zanahoria\"','fuerte=','\"filete\"', 'adicionales=','\"Filete término medio la ensalada sin ningun tipo de semilla, Adereso Ranch\"']\n",
        "\n",
        "#Un -for- para reemplazar todos los '=' con ':' e imprimir al mismo tiempo los elementos de la lista de acuerdo a lo requerido en la imágen.\n",
        "for i, ele in enumerate(menu_select):\n",
        "  ele = ele.replace('=',':')\n",
        "  if i == 0 or i == 1:\n",
        "    print(\"\\t\",ele.upper())\n",
        "  elif (i+1) %2 != 0:\n",
        "    print(\"\\t\",ele.upper(),end=\"\")\n",
        "  else:\n",
        "    print(\"\",ele)"
      ],
      "execution_count": 1,
      "outputs": [
        {
          "output_type": "stream",
          "name": "stdout",
          "text": [
            "Detalle: \n",
            "\t MESA:3\n",
            "\t COMENSAL:2\n",
            "\t ENTRADA :\"Ensalada verde\"\n",
            "\t MEDIO: \"crema de zanahoria\"\n",
            "\t FUERTE: \"filete\"\n",
            "\t ADICIONALES: \"Filete término medio la ensalada sin ningun tipo de semilla, Adereso Ranch\"\n"
          ]
        }
      ]
    }
  ]
}